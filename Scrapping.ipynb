{
 "cells": [
  {
   "cell_type": "markdown",
   "metadata": {},
   "source": [
    "# Librerías"
   ]
  },
  {
   "cell_type": "code",
   "execution_count": 1,
   "metadata": {},
   "outputs": [
    {
     "name": "stdout",
     "output_type": "stream",
     "text": [
      "pygame 2.1.2 (SDL 2.0.18, Python 3.10.1)\n",
      "Hello from the pygame community. https://www.pygame.org/contribute.html\n"
     ]
    }
   ],
   "source": [
    "import requests\n",
    "from bs4 import BeautifulSoup\n",
    "import pandas as pd\n",
    "import time \n",
    "import random\n",
    "import pygame\n"
   ]
  },
  {
   "cell_type": "markdown",
   "metadata": {},
   "source": [
    "## Urls"
   ]
  },
  {
   "cell_type": "code",
   "execution_count": 2,
   "metadata": {},
   "outputs": [
    {
     "name": "stdout",
     "output_type": "stream",
     "text": [
      "767\n",
      "19 11 19 11\n"
     ]
    }
   ],
   "source": [
    "url = [ #0       1  Administración y gestión de empresas 1-3142\n",
    "        'https://mx.indeed.com/jobs?q=Administraci%C3%B3n%20de%20Empresas&l=Ciudad%20de%20M%C3%A9xico&start=',    \n",
    "        #1       2  Contabilidad y 1-2544\n",
    "        'https://mx.indeed.com/jobs?q=contabilidad&l=Ciudad%20de%20M%C3%A9xico&start=',\n",
    "        #2       2  fiscalización 1-733\n",
    "        'https://mx.indeed.com/jobs?q=fiscal&l=Ciudad%20de%20M%C3%A9xico&start=',          \n",
    "        #3       3  Derecho 1-732\n",
    "        'https://mx.indeed.com/jobs?q=derecho&l=Ciudad%20de%20M%C3%A9xico&start=',        \n",
    "        #4       4  Docencia 1-468\n",
    "        'https://mx.indeed.com/jobs?q=docente&l=Ciudad%20de%20M%C3%A9xico&start=',\n",
    "        #5       5  Tecnologías de la información 1-6878\n",
    "        'https://mx.indeed.com/jobs?q=Tecnolog%C3%ADas%20de%20la%20informaci%C3%B3n&l=Ciudad%20de%20M%C3%A9xico&start=',\n",
    "        #6       5  la comunicación 1-832\n",
    "        'https://mx.indeed.com/jobs?q=Tecnolog%C3%ADas%20de%20la%20comunicaci%C3%B3n&l=Ciudad%20de%20M%C3%A9xico&start=',\n",
    "        #7       6  Ingeniería industrial, 1-1034\n",
    "        'https://mx.indeed.com/jobs?q=Ingenier%C3%ADa%20industrial&l=Ciudad%20de%20M%C3%A9xico&start=',\n",
    "        #8       6  Ingeniería mecánica 1-452\n",
    "        'https://mx.indeed.com/jobs?q=Ingenier%C3%ADa%20mec%C3%A1nica&l=Ciudad%20de%20M%C3%A9xico&start=',\n",
    "        #9       6  Ingeniería electrónica 1-466\n",
    "        'https://mx.indeed.com/jobs?q=Ingenier%C3%ADa%20electr%C3%B3nica&l=Ciudad%20de%20M%C3%A9xico&start=',\n",
    "        #10       6  Diseño grafico 1-464\n",
    "        'https://mx.indeed.com/jobs?q=Dise%C3%B1o%20grafico&l=Ciudad%20de%20M%C3%A9xico&start=',\n",
    "        #11       7  Medicina 1-284\n",
    "        'https://mx.indeed.com/jobs?q=medicina&l=Ciudad%20de%20M%C3%A9xico&start=',\n",
    "        #12       7  médico general 1057 \n",
    "        'https://mx.indeed.com/jobs?q=m%C3%A9dico%20general&l=Ciudad%20de%20M%C3%A9xico&start=',\n",
    "        #13       7  Médico pasante 255\n",
    "        'https://mx.indeed.com/jobs?q=M%C3%A9dico%20pasante&l=Ciudad%20de%20M%C3%A9xico&rqf=1&start=',\n",
    "        #14       7  radiologo 2-63\n",
    "        'https://mx.indeed.com/jobs?q=radiologo&l=Ciudad%20de%20M%C3%A9xico&start=',\n",
    "        #15       8  Enfermería 1-427\n",
    "        'https://mx.indeed.com/jobs?q=enfermer%C3%ADa&l=Ciudad%20de%20M%C3%A9xico&start=',\n",
    "        #16       9  Psicología 1-1026\n",
    "        'https://mx.indeed.com/jobs?q=Psicolog%C3%ADa&l=Ciudad%20de%20M%C3%A9xico&start=',\n",
    "        #17       10 Ciencias de la computación 1-129\n",
    "        'https://mx.indeed.com/jobs?q=Ciencias%20de%20la%20computaci%C3%B3n&l=Ciudad%20de%20M%C3%A9xico&start=',\n",
    "        #18       0  McDonnals 1-5123\n",
    "        'https://mx.indeed.com/jobs?q=Ayudante%20general&l=Ciudad%20de%20M%C3%A9xico&start=']\n",
    "\n",
    "label = [1,2,3,4,5,6,7,8,9,10,0]\n",
    "category = ['Administración y gestión de empresas',\n",
    "            'Contabilidad y fiscalización',\n",
    "            'Derecho',\n",
    "            'Docencia',\n",
    "            'Tecnologías de la información y la comunicación',\n",
    "            'Ingeniería industrial, mecánica, electrónica & Diseño grafico',\n",
    "            'Medicina, médico general, Médico pasante, radiologo',\n",
    "            'Enfermería',\n",
    "            'Psicología',\n",
    "            'Ciencias de la computación',\n",
    "            'Ayudante General']\n",
    "pag  = [67, 67, 42, 44, 67, 51, 61, 27, 29, 27, 28, 15, 62, 15, 3, 25, 62, 8, 67]\n",
    "print (sum(pag))\n",
    "print(len(url),len(label),len(pag),len(category))"
   ]
  },
  {
   "cell_type": "code",
   "execution_count": 3,
   "metadata": {},
   "outputs": [],
   "source": [
    "def extract(url2,page):\n",
    "    headers = {'User-Agent': 'Mozilla/5.0 (Windows NT 10.0; Win64; x64) AppleWebKit/537.36 (KHTML, like Gecko) Chrome/101.0.4951.54 Safari/537.36'}\n",
    "    url = url2 + str(page*10)\n",
    "    time.sleep(random.randint(1,15))\n",
    "    r = requests.get(url,headers)\n",
    "    soup = BeautifulSoup(r.content, 'html.parser')\n",
    "    return soup\n",
    "\n",
    "def transform(soup, category, label):\n",
    "    divs = soup.find_all('div', class_ = 'job_seen_beacon')\n",
    "    for items in divs:\n",
    "        title = items.find('a').text.strip()\n",
    "        urls = items.find('a')\n",
    "        urls2 = 'https://mx.indeed.com'+urls['href']\n",
    "        job = {\n",
    "           'category': category,\n",
    "           'label': label,\n",
    "           'title': title,\n",
    "           'url': urls2,\n",
    "        }\n",
    "        joblist.append(job)\n",
    "    return \n",
    "\n",
    "def auto (url,pag,category,label):\n",
    "    for x in range (1,pag):\n",
    "        try:\n",
    "            transform(extract(url,x),category, label)\n",
    "        except:\n",
    "            pygame.mixer.init()\n",
    "            pygame.mixer.music.load('mario.mp3')\n",
    "            pygame.mixer.music.play()\n",
    "            print(url,pag,category,label)\n",
    "            break"
   ]
  },
  {
   "cell_type": "markdown",
   "metadata": {},
   "source": [
    "## Obtener las Urls"
   ]
  },
  {
   "cell_type": "code",
   "execution_count": 4,
   "metadata": {},
   "outputs": [
    {
     "data": {
      "text/plain": [
       "'\\ni = 0\\nnum = 0\\nauto(url[i],pag[i],category[num],label[num])\\nprint(joblist)\\n# '"
      ]
     },
     "execution_count": 4,
     "metadata": {},
     "output_type": "execute_result"
    }
   ],
   "source": [
    "joblist = []\n",
    "\"\"\"\n",
    "i = 0\n",
    "num = 0\n",
    "auto(url[i],pag[i],category[num],label[num])\n",
    "print(joblist)\n",
    "# \"\"\""
   ]
  },
  {
   "cell_type": "code",
   "execution_count": 5,
   "metadata": {},
   "outputs": [
    {
     "name": "stdout",
     "output_type": "stream",
     "text": [
      "15   8   Enfermería\n",
      "16   9   Psicología\n",
      "17   10   Ciencias de la computación\n",
      "18   0   Ayudante General\n"
     ]
    }
   ],
   "source": [
    "for i in range(15,len(url)):\n",
    "    if i == 0:\n",
    "        num = 0\n",
    "        print(i,' ',label[num],' ',category[num])\n",
    "        auto(url[i],pag[i],category[num],label[num])\n",
    "    elif i == 1 or i == 2:\n",
    "        num = 1\n",
    "        print(i,' ',label[num],' ',category[num])\n",
    "        auto(url[i],pag[i],category[num],label[num])\n",
    "    elif i == 3:\n",
    "        num = 2\n",
    "        print(i,' ',label[num],' ',category[num])\n",
    "        auto(url[i],pag[i],category[num],label[num])\n",
    "    elif i == 4:\n",
    "        num = 3\n",
    "        print(i,' ',label[num],' ',category[num])\n",
    "        auto(url[i],pag[i],category[num],label[num])\n",
    "    elif i == 5 or i == 6:\n",
    "        num = 4\n",
    "        print(i,' ',label[num],' ',category[num])\n",
    "        auto(url[i],pag[i],category[num],label[num])\n",
    "    elif i >= 7 and i <= 10:\n",
    "        num = 5\n",
    "        print(i,' ',label[num],' ',category[num])\n",
    "        auto(url[i],pag[i],category[num],label[num])\n",
    "    elif i >= 11 and i <= 14:\n",
    "        num = 6\n",
    "        print(i,' ',label[num],' ',category[num])\n",
    "        auto(url[i],pag[i],category[num],label[num])\n",
    "    elif i == 15:\n",
    "        num = 7\n",
    "        print(i,' ',label[num],' ',category[num])\n",
    "        auto(url[i],pag[i],category[num],label[num])\n",
    "    elif i == 16:\n",
    "        num = 8\n",
    "        print(i,' ',label[num],' ',category[num])\n",
    "        auto(url[i],pag[i],category[num],label[num])\n",
    "    elif i == 17:\n",
    "        num = 9\n",
    "        print(i,' ',label[num],' ',category[num])\n",
    "        auto(url[i],pag[i],category[num],label[num])\n",
    "    else:\n",
    "        num = 10\n",
    "        print(i,' ',label[num],' ',category[num])\n",
    "        auto(url[i],pag[i],category[num],label[num])"
   ]
  },
  {
   "cell_type": "code",
   "execution_count": 7,
   "metadata": {},
   "outputs": [
    {
     "name": "stdout",
     "output_type": "stream",
     "text": [
      "2365\n",
      "     category  label                              title  \\\n",
      "0  Enfermería      8                   asistente medico   \n",
      "1  Enfermería      8                Enfermero@ de campo   \n",
      "2  Enfermería      8                          Enfermera   \n",
      "3  Enfermería      8  Enfermero general Álvaro olbregón   \n",
      "4  Enfermería      8             Auxiliar de enfermería   \n",
      "\n",
      "                                                 url  \n",
      "0  https://mx.indeed.com/company/Dra.-Blanca-Rodr...  \n",
      "1  https://mx.indeed.com/company/Soluciones-SOHIN...  \n",
      "2  https://mx.indeed.com/rc/clk?jk=92d2b4ad8f5147...  \n",
      "3  https://mx.indeed.com/company/Dignity-Solucion...  \n",
      "4  https://mx.indeed.com/company/Atend/jobs/Auxil...  \n"
     ]
    }
   ],
   "source": [
    "print(len(joblist))\n",
    "# \"\"\"\n",
    "df = pd.DataFrame(joblist)\n",
    "print(df.head())\n",
    "df.to_csv('Modelos/CSV/jobsfinal2.csv')\n",
    "# \"\"\""
   ]
  },
  {
   "cell_type": "markdown",
   "metadata": {},
   "source": [
    "---\n",
    "Lectura de urls y automatización\n",
    "---\n",
    "\n",
    "---"
   ]
  },
  {
   "cell_type": "code",
   "execution_count": 2,
   "metadata": {},
   "outputs": [],
   "source": [
    "import requests\n",
    "from bs4 import BeautifulSoup\n",
    "import pandas as pd\n",
    "import time \n",
    "import random\n",
    "import pygame\n",
    "import os\n"
   ]
  },
  {
   "cell_type": "code",
   "execution_count": 3,
   "metadata": {},
   "outputs": [
    {
     "name": "stdout",
     "output_type": "stream",
     "text": [
      "8706\n"
     ]
    }
   ],
   "source": [
    "a = pd.read_csv(\"jobsfinal.csv\", delimiter = \",\").astype(str)\n",
    "\n",
    "url_ = []\n",
    "category = []\n",
    "label = []\n",
    "\n",
    "for i in range(0,len(a)):\n",
    "    url_.append(a[\"url\"][i])\n",
    "    category.append(a[\"category\"][i])\n",
    "    label.append(a[\"label\"][i])\n",
    "    \n",
    "print(len(url_))"
   ]
  },
  {
   "cell_type": "code",
   "execution_count": 4,
   "metadata": {},
   "outputs": [],
   "source": [
    "def extract(url):\n",
    "    time.sleep(random.randint(3,30))\n",
    "    #headers = {'User-Agent': 'Mozilla/5.0 (Windows NT 10.0; Win64; x64) AppleWebKit/537.36 (KHTML, like Gecko) Chrome/101.0.4951.54 Safari/537.36'}\n",
    "    headers = {'User-Agent': 'Mozilla/5.0 (Windows NT 10.0; Win64; x64) AppleWebKit/537.36 (KHTML, like Gecko) Chrome/101.0.4951.67 Safari/537.36'}\n",
    "    r = requests.get(url,headers)\n",
    "    soup = BeautifulSoup(r.content, 'html.parser')\n",
    "    return soup\n",
    "\n",
    "def transform(soup, category, label):    \n",
    "    title = soup.find('h1', class_ = 'icl-u-xs-mb--xs icl-u-xs-mt--none jobsearch-JobInfoHeader-title').text.lower()\n",
    "    try:\n",
    "        divs = soup.find('div', class_ = 'jobsearch-CompanyInfoContainer')\n",
    "        company = divs.find('a').text.strip().lower()\n",
    "    except:\n",
    "        divs = soup.find_all('div', class_ = 'icl-u-lg-mr--sm icl-u-xs-mr--xs')\n",
    "        company = divs[1].text\n",
    "    try: \n",
    "        profile =  soup.find('div', class_ = 'jobsearch-jobDescriptionText').text.strip().lower()\n",
    "    except:\n",
    "        divs = soup.find('div', class_ = 'jobsearch-jobDescriptionText')\n",
    "        profile = divs.find('h1',class_ = 'icl-u-xs-mb--xs icl-u-xs-mt--none jobsearch-JobInfoHeader-title')\n",
    "    job = {\n",
    "        'category': category,\n",
    "        'label': label,\n",
    "        'title': title,\n",
    "        'company': company,\n",
    "        'profile': profile,\n",
    "    }\n",
    "    joblist.append(job)\n"
   ]
  },
  {
   "cell_type": "code",
   "execution_count": 5,
   "metadata": {},
   "outputs": [
    {
     "name": "stdout",
     "output_type": "stream",
     "text": [
      "[{'category': 'Administración y gestión de empresas', 'label': '1', 'title': 'se busca analista de reclutamiento', 'company': 'chazki', 'profile': 'procesos de reclutamiento y adquisición de talento.experiencia en reclutamiento masivo en el area de logística ,seguridad privada o call center indispensable.ofrecer apoyo a los empleados en varios temas relacionados con rr. hh., como permisos, compensaciones y solucionar cualquier problema que pueda surgir.mantener registros y archivos de empleadosgarantizar el cumplimiento de las normativas laboralesapoyar en todas las actividades relacionadas con reclutamiento, local foráneo. reclutar y filtrar candidatos idóneos para los diferentes puestosrealizar y redactar las publicaciones de los requerimientos de acuerdo al perfil indicadoescolaridad: licenciatura concluida o trunca de psicología industrial, o administración de empresas.sexo: indistintoedad: 21 en adelanteexperiencia: mínima de 3 años en puesto similar (reclutamiento y selección)competencias:· iniciativa· dinamismo· buena organización· capacidad y criterio en toma de decisiones· buen manejo de relaciones interpersonales· capacidad de trabajo en equiporequisitos:excelentes capacidades comunicativas y don de gentesaptitud para solucionar problemasdeseo de trabajar en equipo con un enfoque orientado a los resultadosgrado en administración de empresas o un campo relacionado.mantener actualizada la base de datos.conocimientos:-manejo del sistema operativo windows y de herramientas como word, excel, y power point.tipo de puesto: tiempo completo, por tiempo indeterminadosalario: a partir de $14,000.00 al mesbeneficios:trabajar desde casauniformes gratuitosvales de despensahorario:lunes a viernes'}]\n",
      "4353.0\n"
     ]
    }
   ],
   "source": [
    "joblist = []\n",
    "#print(url_[664])\n",
    "x = 0\n",
    "transform(extract(url_[x]),category[x], label[x])\n",
    "print(joblist)\n",
    "print(len(url_)/2)\n"
   ]
  },
  {
   "cell_type": "code",
   "execution_count": 9,
   "metadata": {},
   "outputs": [
    {
     "name": "stdout",
     "output_type": "stream",
     "text": [
      "109\n",
      "109\n"
     ]
    }
   ],
   "source": [
    "b = pd.read_csv(\"Resultados3.csv\", delimiter = \",\").astype(str)\n",
    "category = []\n",
    "\n",
    "for i in range(0,len(b)):\n",
    "    category.append(b[\"label\"][i])\n",
    "    \n",
    "print(len(category))\n"
   ]
  },
  {
   "cell_type": "code",
   "execution_count": 6,
   "metadata": {},
   "outputs": [
    {
     "name": "stdout",
     "output_type": "stream",
     "text": [
      "2024 2\n",
     ]
    }
   ],
   "source": [
    "# for x in range (0,len(url_)/2):\n",
    "aa = 0\n",
    "for x in range (2024,4353):\n",
    "    try:\n",
    "        transform(extract(url_[x]),category[x], label[x])\n",
    "        print(x, len(joblist))\n",
    "        if aa > 10:\n",
    "            df = pd.DataFrame(joblist)\n",
    "            df.to_csv('Resultados5.csv')\n",
    "            aa = 0\n",
    "        else:\n",
    "            aa += 1\n",
    "    except:\n",
    "        pygame.mixer.init()\n",
    "        pygame.mixer.music.load('mario.mp3')\n",
    "        pygame.mixer.music.play()\n",
    "        print(url_[x],x,category[x],label[x])\n",
    "        break"
   ]
  },
  {
   "cell_type": "markdown",
   "metadata": {},
   "source": [
    "Clases del contenedor de la página principal de búsqueda"
   ]
  },
  {
   "cell_type": "code",
   "execution_count": 15,
   "metadata": {},
   "outputs": [
    {
     "name": "stdout",
     "output_type": "stream",
     "text": [
      "546\n"
     ]
    }
   ],
   "source": [
    "# class del <div> link = 'job_seen_beacon'\n",
    "#   class de las <a> = 'jcs-JobTitle'\n",
    "\n",
    "# class del <div> salario = 'metadata salary-snippet-container'\n",
    "#   class del <div> contenedor 'metadata salary-snippet-container'\n",
    "# \n",
    "print(len(joblist))"
   ]
  },
  {
   "cell_type": "code",
   "execution_count": 18,
   "metadata": {},
   "outputs": [],
   "source": [
    "df = pd.DataFrame(joblist)\n",
    "df.to_csv('Resultados4.csv')"
   ]
  },
  {
   "cell_type": "markdown",
   "metadata": {},
   "source": [
    "Clases del nuevo link"
   ]
  },
  {
   "cell_type": "code",
   "execution_count": 38,
   "metadata": {},
   "outputs": [],
   "source": [
    "import requests\n",
    "from bs4 import BeautifulSoup\n",
    "import pandas as pd\n",
    "import time "
   ]
  },
  {
   "cell_type": "code",
   "execution_count": 39,
   "metadata": {},
   "outputs": [
    {
     "name": "stdout",
     "output_type": "stream",
     "text": [
      "437\n"
     ]
    }
   ],
   "source": [
    "a = pd.read_csv(\"Modelos/CSV/tt2.csv\", delimiter = \",\").astype(str)\n",
    "data = []\n",
    "print(len(a))\n",
    "# print(a.head())\n"
   ]
  },
  {
   "cell_type": "code",
   "execution_count": 47,
   "metadata": {},
   "outputs": [],
   "source": [
    "#\"\"\"\n",
    "def txt(directory,title,company,profile,category):\n",
    "    bb = \"Modelos/TXTBB/\"+category+str(directory)+\".txt\"\n",
    "    file = open(bb, \"w\",encoding=\"utf-8\")\n",
    "    file.write(title)\n",
    "    file.write('\\n')\n",
    "    file.write(company)\n",
    "    file.write('\\n')\n",
    "    file.write(profile)\n",
    "    file.close()\n",
    "\n",
    "\n",
    "# txt(1,'title','company','profile','category')\n",
    "#\"\"\"\n",
    "i = 672-663\n",
    "\n",
    "#print (a[\"title\"][i],'\\n',a[\"company\"][i],'\\n',a[\"profile\"][i],'\\n',a[\"category\"][i])\n",
    "for i in range(1,len(a)):\n",
    "    data.append('null')\n",
    "    c = (i+663)\n",
    "    try:\n",
    "        txt(c,a[\"title\"][i],a[\"company\"][i],a[\"profile\"][i],a[\"category\"][i])\n",
    "    except:\n",
    "        print(c)\n",
    "\n",
    "#\"\"\""
   ]
  },
  {
   "cell_type": "code",
   "execution_count": 7,
   "metadata": {},
   "outputs": [],
   "source": [
    "# class del <div> Titulo 'jobsearch-JobInfoHeader-title-container'\n",
    "#   class del <h1> Titulo 'icl-u-xs-mb--xs icl-u-xs-mt--none jobsearch-JobInfoHeader-title'\n",
    "\n",
    "# class del <div> que contiene empresa, salario y localidad =  'jobsearch-CompanyInfoContainer'\n",
    "# class del <div> empresa =  'jobsearch-InlineCompanyRating icl-u-xs-mt--xs jobsearch-DesktopStickyContainer-companyrating'\n",
    "#   class del 2 <div> empresa =  'icl-u-lg-mr--sm icl-u-xs-mr--xs'\n",
    "\n",
    "# class del <div> salario = 'jobsearch-JobMetadataHeader-item '\n",
    "#   class del <span> salario = 'icl-u-xs-mr--xs attribute_snippet'\n",
    "\n",
    "# class beneficios <div> 'mpci-tvvxwd ecydgvn1'\n",
    "# Contenidos en <div> 'mpci-uuuo5c eu4oa1w0'\n",
    "\n",
    "\n",
    "# class del <div> descripcion = 'jobDescriptionText'"
   ]
  }
 ],
 "metadata": {
  "interpreter": {
   "hash": "e751e3ee743adb42c7dddb4d5aa235a40a974e2f31d5ea6ad790fef891e5b5ec"
  },
  "kernelspec": {
   "display_name": "Python 3.10.4 64-bit",
   "language": "python",
   "name": "python3"
  },
  "language_info": {
   "codemirror_mode": {
    "name": "ipython",
    "version": 3
   },
   "file_extension": ".py",
   "mimetype": "text/x-python",
   "name": "python",
   "nbconvert_exporter": "python",
   "pygments_lexer": "ipython3",
   "version": "3.10.4"
  },
  "orig_nbformat": 4
 },
 "nbformat": 4,
 "nbformat_minor": 2
}
